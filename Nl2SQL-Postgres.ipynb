{
 "cells": [
  {
   "cell_type": "markdown",
   "id": "03a5c00c",
   "metadata": {},
   "source": [
    "## In this Notebook, we will create a basic Q&A chain and Agent over a SQL database"
   ]
  },
  {
   "cell_type": "markdown",
   "id": "d06633c3",
   "metadata": {},
   "source": [
    "### Architecture\n",
    "\n",
    "At a high-level, the steps of any SQL chain and agent are:\n",
    "\n",
    "- `Convert question to SQL query using the LLM Model.`\n",
    "- `Execute the SQL query.`\n",
    "- `getting the Model to respond to user input using the query results.`"
   ]
  },
  {
   "cell_type": "code",
   "execution_count": 4,
   "id": "2e812bfc-f565-4b7c-b56b-2e01e8df735e",
   "metadata": {},
   "outputs": [
    {
     "name": "stdout",
     "output_type": "stream",
     "text": [
      "Requirement already satisfied: langchain_experimental in /home/codespace/.python/current/lib/python3.12/site-packages (0.3.4)\n",
      "Requirement already satisfied: langchain-community<0.4.0,>=0.3.0 in /home/codespace/.python/current/lib/python3.12/site-packages (from langchain_experimental) (0.3.17)\n",
      "Requirement already satisfied: langchain-core<0.4.0,>=0.3.28 in /home/codespace/.python/current/lib/python3.12/site-packages (from langchain_experimental) (0.3.34)\n",
      "Requirement already satisfied: langchain<1.0.0,>=0.3.18 in /home/codespace/.python/current/lib/python3.12/site-packages (from langchain-community<0.4.0,>=0.3.0->langchain_experimental) (0.3.18)\n",
      "Requirement already satisfied: SQLAlchemy<3,>=1.4 in /home/codespace/.python/current/lib/python3.12/site-packages (from langchain-community<0.4.0,>=0.3.0->langchain_experimental) (2.0.38)\n",
      "Requirement already satisfied: requests<3,>=2 in /home/codespace/.local/lib/python3.12/site-packages (from langchain-community<0.4.0,>=0.3.0->langchain_experimental) (2.32.3)\n",
      "Requirement already satisfied: PyYAML>=5.3 in /home/codespace/.local/lib/python3.12/site-packages (from langchain-community<0.4.0,>=0.3.0->langchain_experimental) (6.0.2)\n",
      "Requirement already satisfied: aiohttp<4.0.0,>=3.8.3 in /home/codespace/.python/current/lib/python3.12/site-packages (from langchain-community<0.4.0,>=0.3.0->langchain_experimental) (3.11.12)\n",
      "Requirement already satisfied: tenacity!=8.4.0,<10,>=8.1.0 in /home/codespace/.local/lib/python3.12/site-packages (from langchain-community<0.4.0,>=0.3.0->langchain_experimental) (9.0.0)\n",
      "Requirement already satisfied: dataclasses-json<0.7,>=0.5.7 in /home/codespace/.python/current/lib/python3.12/site-packages (from langchain-community<0.4.0,>=0.3.0->langchain_experimental) (0.6.7)\n",
      "Requirement already satisfied: pydantic-settings<3.0.0,>=2.4.0 in /home/codespace/.python/current/lib/python3.12/site-packages (from langchain-community<0.4.0,>=0.3.0->langchain_experimental) (2.7.1)\n",
      "Requirement already satisfied: langsmith<0.4,>=0.1.125 in /home/codespace/.python/current/lib/python3.12/site-packages (from langchain-community<0.4.0,>=0.3.0->langchain_experimental) (0.3.8)\n",
      "Requirement already satisfied: httpx-sse<1.0.0,>=0.4.0 in /home/codespace/.python/current/lib/python3.12/site-packages (from langchain-community<0.4.0,>=0.3.0->langchain_experimental) (0.4.0)\n",
      "Requirement already satisfied: numpy<3,>=1.26.2 in /home/codespace/.local/lib/python3.12/site-packages (from langchain-community<0.4.0,>=0.3.0->langchain_experimental) (2.2.0)\n",
      "Requirement already satisfied: jsonpatch<2.0,>=1.33 in /home/codespace/.python/current/lib/python3.12/site-packages (from langchain-core<0.4.0,>=0.3.28->langchain_experimental) (1.33)\n",
      "Requirement already satisfied: packaging<25,>=23.2 in /home/codespace/.local/lib/python3.12/site-packages (from langchain-core<0.4.0,>=0.3.28->langchain_experimental) (24.2)\n",
      "Requirement already satisfied: typing-extensions>=4.7 in /home/codespace/.local/lib/python3.12/site-packages (from langchain-core<0.4.0,>=0.3.28->langchain_experimental) (4.12.2)\n",
      "Requirement already satisfied: pydantic<3.0.0,>=2.5.2 in /home/codespace/.python/current/lib/python3.12/site-packages (from langchain-core<0.4.0,>=0.3.28->langchain_experimental) (2.10.6)\n",
      "Requirement already satisfied: aiohappyeyeballs>=2.3.0 in /home/codespace/.python/current/lib/python3.12/site-packages (from aiohttp<4.0.0,>=3.8.3->langchain-community<0.4.0,>=0.3.0->langchain_experimental) (2.4.6)\n",
      "Requirement already satisfied: aiosignal>=1.1.2 in /home/codespace/.python/current/lib/python3.12/site-packages (from aiohttp<4.0.0,>=3.8.3->langchain-community<0.4.0,>=0.3.0->langchain_experimental) (1.3.2)\n",
      "Requirement already satisfied: attrs>=17.3.0 in /home/codespace/.local/lib/python3.12/site-packages (from aiohttp<4.0.0,>=3.8.3->langchain-community<0.4.0,>=0.3.0->langchain_experimental) (24.2.0)\n",
      "Requirement already satisfied: frozenlist>=1.1.1 in /home/codespace/.python/current/lib/python3.12/site-packages (from aiohttp<4.0.0,>=3.8.3->langchain-community<0.4.0,>=0.3.0->langchain_experimental) (1.5.0)\n",
      "Requirement already satisfied: multidict<7.0,>=4.5 in /home/codespace/.python/current/lib/python3.12/site-packages (from aiohttp<4.0.0,>=3.8.3->langchain-community<0.4.0,>=0.3.0->langchain_experimental) (6.1.0)\n",
      "Requirement already satisfied: propcache>=0.2.0 in /home/codespace/.python/current/lib/python3.12/site-packages (from aiohttp<4.0.0,>=3.8.3->langchain-community<0.4.0,>=0.3.0->langchain_experimental) (0.2.1)\n",
      "Requirement already satisfied: yarl<2.0,>=1.17.0 in /home/codespace/.python/current/lib/python3.12/site-packages (from aiohttp<4.0.0,>=3.8.3->langchain-community<0.4.0,>=0.3.0->langchain_experimental) (1.18.3)\n",
      "Requirement already satisfied: marshmallow<4.0.0,>=3.18.0 in /home/codespace/.python/current/lib/python3.12/site-packages (from dataclasses-json<0.7,>=0.5.7->langchain-community<0.4.0,>=0.3.0->langchain_experimental) (3.26.1)\n",
      "Requirement already satisfied: typing-inspect<1,>=0.4.0 in /home/codespace/.python/current/lib/python3.12/site-packages (from dataclasses-json<0.7,>=0.5.7->langchain-community<0.4.0,>=0.3.0->langchain_experimental) (0.9.0)\n",
      "Requirement already satisfied: jsonpointer>=1.9 in /home/codespace/.local/lib/python3.12/site-packages (from jsonpatch<2.0,>=1.33->langchain-core<0.4.0,>=0.3.28->langchain_experimental) (3.0.0)\n",
      "Requirement already satisfied: langchain-text-splitters<1.0.0,>=0.3.6 in /home/codespace/.python/current/lib/python3.12/site-packages (from langchain<1.0.0,>=0.3.18->langchain-community<0.4.0,>=0.3.0->langchain_experimental) (0.3.6)\n",
      "Requirement already satisfied: httpx<1,>=0.23.0 in /home/codespace/.local/lib/python3.12/site-packages (from langsmith<0.4,>=0.1.125->langchain-community<0.4.0,>=0.3.0->langchain_experimental) (0.28.1)\n",
      "Requirement already satisfied: orjson<4.0.0,>=3.9.14 in /home/codespace/.python/current/lib/python3.12/site-packages (from langsmith<0.4,>=0.1.125->langchain-community<0.4.0,>=0.3.0->langchain_experimental) (3.10.15)\n",
      "Requirement already satisfied: requests-toolbelt<2.0.0,>=1.0.0 in /home/codespace/.python/current/lib/python3.12/site-packages (from langsmith<0.4,>=0.1.125->langchain-community<0.4.0,>=0.3.0->langchain_experimental) (1.0.0)\n",
      "Requirement already satisfied: zstandard<0.24.0,>=0.23.0 in /home/codespace/.python/current/lib/python3.12/site-packages (from langsmith<0.4,>=0.1.125->langchain-community<0.4.0,>=0.3.0->langchain_experimental) (0.23.0)\n",
      "Requirement already satisfied: annotated-types>=0.6.0 in /home/codespace/.python/current/lib/python3.12/site-packages (from pydantic<3.0.0,>=2.5.2->langchain-core<0.4.0,>=0.3.28->langchain_experimental) (0.7.0)\n",
      "Requirement already satisfied: pydantic-core==2.27.2 in /home/codespace/.python/current/lib/python3.12/site-packages (from pydantic<3.0.0,>=2.5.2->langchain-core<0.4.0,>=0.3.28->langchain_experimental) (2.27.2)\n",
      "Requirement already satisfied: python-dotenv>=0.21.0 in /home/codespace/.python/current/lib/python3.12/site-packages (from pydantic-settings<3.0.0,>=2.4.0->langchain-community<0.4.0,>=0.3.0->langchain_experimental) (1.0.1)\n",
      "Requirement already satisfied: charset-normalizer<4,>=2 in /home/codespace/.local/lib/python3.12/site-packages (from requests<3,>=2->langchain-community<0.4.0,>=0.3.0->langchain_experimental) (3.4.0)\n",
      "Requirement already satisfied: idna<4,>=2.5 in /home/codespace/.local/lib/python3.12/site-packages (from requests<3,>=2->langchain-community<0.4.0,>=0.3.0->langchain_experimental) (3.10)\n",
      "Requirement already satisfied: urllib3<3,>=1.21.1 in /home/codespace/.local/lib/python3.12/site-packages (from requests<3,>=2->langchain-community<0.4.0,>=0.3.0->langchain_experimental) (2.2.3)\n",
      "Requirement already satisfied: certifi>=2017.4.17 in /home/codespace/.local/lib/python3.12/site-packages (from requests<3,>=2->langchain-community<0.4.0,>=0.3.0->langchain_experimental) (2024.8.30)\n",
      "Requirement already satisfied: greenlet!=0.4.17 in /home/codespace/.python/current/lib/python3.12/site-packages (from SQLAlchemy<3,>=1.4->langchain-community<0.4.0,>=0.3.0->langchain_experimental) (3.1.1)\n",
      "Requirement already satisfied: anyio in /home/codespace/.local/lib/python3.12/site-packages (from httpx<1,>=0.23.0->langsmith<0.4,>=0.1.125->langchain-community<0.4.0,>=0.3.0->langchain_experimental) (4.7.0)\n",
      "Requirement already satisfied: httpcore==1.* in /home/codespace/.local/lib/python3.12/site-packages (from httpx<1,>=0.23.0->langsmith<0.4,>=0.1.125->langchain-community<0.4.0,>=0.3.0->langchain_experimental) (1.0.7)\n",
      "Requirement already satisfied: h11<0.15,>=0.13 in /home/codespace/.local/lib/python3.12/site-packages (from httpcore==1.*->httpx<1,>=0.23.0->langsmith<0.4,>=0.1.125->langchain-community<0.4.0,>=0.3.0->langchain_experimental) (0.14.0)\n",
      "Requirement already satisfied: mypy-extensions>=0.3.0 in /home/codespace/.python/current/lib/python3.12/site-packages (from typing-inspect<1,>=0.4.0->dataclasses-json<0.7,>=0.5.7->langchain-community<0.4.0,>=0.3.0->langchain_experimental) (1.0.0)\n",
      "Requirement already satisfied: sniffio>=1.1 in /home/codespace/.local/lib/python3.12/site-packages (from anyio->httpx<1,>=0.23.0->langsmith<0.4,>=0.1.125->langchain-community<0.4.0,>=0.3.0->langchain_experimental) (1.3.1)\n",
      "\n",
      "\u001b[1m[\u001b[0m\u001b[34;49mnotice\u001b[0m\u001b[1;39;49m]\u001b[0m\u001b[39;49m A new release of pip is available: \u001b[0m\u001b[31;49m24.3.1\u001b[0m\u001b[39;49m -> \u001b[0m\u001b[32;49m25.0.1\u001b[0m\n",
      "\u001b[1m[\u001b[0m\u001b[34;49mnotice\u001b[0m\u001b[1;39;49m]\u001b[0m\u001b[39;49m To update, run: \u001b[0m\u001b[32;49mpip install --upgrade pip\u001b[0m\n",
      "Note: you may need to restart the kernel to use updated packages.\n",
      "Requirement already satisfied: psycopg2 in /home/codespace/.python/current/lib/python3.12/site-packages (2.9.10)\n",
      "\n",
      "\u001b[1m[\u001b[0m\u001b[34;49mnotice\u001b[0m\u001b[1;39;49m]\u001b[0m\u001b[39;49m A new release of pip is available: \u001b[0m\u001b[31;49m24.3.1\u001b[0m\u001b[39;49m -> \u001b[0m\u001b[32;49m25.0.1\u001b[0m\n",
      "\u001b[1m[\u001b[0m\u001b[34;49mnotice\u001b[0m\u001b[1;39;49m]\u001b[0m\u001b[39;49m To update, run: \u001b[0m\u001b[32;49mpip install --upgrade pip\u001b[0m\n",
      "Note: you may need to restart the kernel to use updated packages.\n",
      "Collecting langchain_openai\n",
      "  Downloading langchain_openai-0.3.5-py3-none-any.whl.metadata (2.3 kB)\n",
      "Requirement already satisfied: langchain-core<1.0.0,>=0.3.34 in /home/codespace/.python/current/lib/python3.12/site-packages (from langchain_openai) (0.3.34)\n",
      "Collecting openai<2.0.0,>=1.58.1 (from langchain_openai)\n",
      "  Downloading openai-1.61.1-py3-none-any.whl.metadata (27 kB)\n",
      "Collecting tiktoken<1,>=0.7 (from langchain_openai)\n",
      "  Downloading tiktoken-0.8.0-cp312-cp312-manylinux_2_17_x86_64.manylinux2014_x86_64.whl.metadata (6.6 kB)\n",
      "Requirement already satisfied: langsmith<0.4,>=0.1.125 in /home/codespace/.python/current/lib/python3.12/site-packages (from langchain-core<1.0.0,>=0.3.34->langchain_openai) (0.3.8)\n",
      "Requirement already satisfied: tenacity!=8.4.0,<10.0.0,>=8.1.0 in /home/codespace/.local/lib/python3.12/site-packages (from langchain-core<1.0.0,>=0.3.34->langchain_openai) (9.0.0)\n",
      "Requirement already satisfied: jsonpatch<2.0,>=1.33 in /home/codespace/.python/current/lib/python3.12/site-packages (from langchain-core<1.0.0,>=0.3.34->langchain_openai) (1.33)\n",
      "Requirement already satisfied: PyYAML>=5.3 in /home/codespace/.local/lib/python3.12/site-packages (from langchain-core<1.0.0,>=0.3.34->langchain_openai) (6.0.2)\n",
      "Requirement already satisfied: packaging<25,>=23.2 in /home/codespace/.local/lib/python3.12/site-packages (from langchain-core<1.0.0,>=0.3.34->langchain_openai) (24.2)\n",
      "Requirement already satisfied: typing-extensions>=4.7 in /home/codespace/.local/lib/python3.12/site-packages (from langchain-core<1.0.0,>=0.3.34->langchain_openai) (4.12.2)\n",
      "Requirement already satisfied: pydantic<3.0.0,>=2.5.2 in /home/codespace/.python/current/lib/python3.12/site-packages (from langchain-core<1.0.0,>=0.3.34->langchain_openai) (2.10.6)\n",
      "Requirement already satisfied: anyio<5,>=3.5.0 in /home/codespace/.local/lib/python3.12/site-packages (from openai<2.0.0,>=1.58.1->langchain_openai) (4.7.0)\n",
      "Collecting distro<2,>=1.7.0 (from openai<2.0.0,>=1.58.1->langchain_openai)\n",
      "  Downloading distro-1.9.0-py3-none-any.whl.metadata (6.8 kB)\n",
      "Requirement already satisfied: httpx<1,>=0.23.0 in /home/codespace/.local/lib/python3.12/site-packages (from openai<2.0.0,>=1.58.1->langchain_openai) (0.28.1)\n",
      "Collecting jiter<1,>=0.4.0 (from openai<2.0.0,>=1.58.1->langchain_openai)\n",
      "  Downloading jiter-0.8.2-cp312-cp312-manylinux_2_17_x86_64.manylinux2014_x86_64.whl.metadata (5.2 kB)\n",
      "Requirement already satisfied: sniffio in /home/codespace/.local/lib/python3.12/site-packages (from openai<2.0.0,>=1.58.1->langchain_openai) (1.3.1)\n",
      "Collecting tqdm>4 (from openai<2.0.0,>=1.58.1->langchain_openai)\n",
      "  Downloading tqdm-4.67.1-py3-none-any.whl.metadata (57 kB)\n",
      "Collecting regex>=2022.1.18 (from tiktoken<1,>=0.7->langchain_openai)\n",
      "  Downloading regex-2024.11.6-cp312-cp312-manylinux_2_17_x86_64.manylinux2014_x86_64.whl.metadata (40 kB)\n",
      "Requirement already satisfied: requests>=2.26.0 in /home/codespace/.local/lib/python3.12/site-packages (from tiktoken<1,>=0.7->langchain_openai) (2.32.3)\n",
      "Requirement already satisfied: idna>=2.8 in /home/codespace/.local/lib/python3.12/site-packages (from anyio<5,>=3.5.0->openai<2.0.0,>=1.58.1->langchain_openai) (3.10)\n",
      "Requirement already satisfied: certifi in /home/codespace/.local/lib/python3.12/site-packages (from httpx<1,>=0.23.0->openai<2.0.0,>=1.58.1->langchain_openai) (2024.8.30)\n",
      "Requirement already satisfied: httpcore==1.* in /home/codespace/.local/lib/python3.12/site-packages (from httpx<1,>=0.23.0->openai<2.0.0,>=1.58.1->langchain_openai) (1.0.7)\n",
      "Requirement already satisfied: h11<0.15,>=0.13 in /home/codespace/.local/lib/python3.12/site-packages (from httpcore==1.*->httpx<1,>=0.23.0->openai<2.0.0,>=1.58.1->langchain_openai) (0.14.0)\n",
      "Requirement already satisfied: jsonpointer>=1.9 in /home/codespace/.local/lib/python3.12/site-packages (from jsonpatch<2.0,>=1.33->langchain-core<1.0.0,>=0.3.34->langchain_openai) (3.0.0)\n",
      "Requirement already satisfied: orjson<4.0.0,>=3.9.14 in /home/codespace/.python/current/lib/python3.12/site-packages (from langsmith<0.4,>=0.1.125->langchain-core<1.0.0,>=0.3.34->langchain_openai) (3.10.15)\n",
      "Requirement already satisfied: requests-toolbelt<2.0.0,>=1.0.0 in /home/codespace/.python/current/lib/python3.12/site-packages (from langsmith<0.4,>=0.1.125->langchain-core<1.0.0,>=0.3.34->langchain_openai) (1.0.0)\n",
      "Requirement already satisfied: zstandard<0.24.0,>=0.23.0 in /home/codespace/.python/current/lib/python3.12/site-packages (from langsmith<0.4,>=0.1.125->langchain-core<1.0.0,>=0.3.34->langchain_openai) (0.23.0)\n",
      "Requirement already satisfied: annotated-types>=0.6.0 in /home/codespace/.python/current/lib/python3.12/site-packages (from pydantic<3.0.0,>=2.5.2->langchain-core<1.0.0,>=0.3.34->langchain_openai) (0.7.0)\n",
      "Requirement already satisfied: pydantic-core==2.27.2 in /home/codespace/.python/current/lib/python3.12/site-packages (from pydantic<3.0.0,>=2.5.2->langchain-core<1.0.0,>=0.3.34->langchain_openai) (2.27.2)\n",
      "Requirement already satisfied: charset-normalizer<4,>=2 in /home/codespace/.local/lib/python3.12/site-packages (from requests>=2.26.0->tiktoken<1,>=0.7->langchain_openai) (3.4.0)\n",
      "Requirement already satisfied: urllib3<3,>=1.21.1 in /home/codespace/.local/lib/python3.12/site-packages (from requests>=2.26.0->tiktoken<1,>=0.7->langchain_openai) (2.2.3)\n",
      "Downloading langchain_openai-0.3.5-py3-none-any.whl (54 kB)\n",
      "Downloading openai-1.61.1-py3-none-any.whl (463 kB)\n",
      "Downloading tiktoken-0.8.0-cp312-cp312-manylinux_2_17_x86_64.manylinux2014_x86_64.whl (1.2 MB)\n",
      "\u001b[2K   \u001b[90m━━━━━━━━━━━━━━━━━━━━━━━━━━━━━━━━━━━━━━━━\u001b[0m \u001b[32m1.2/1.2 MB\u001b[0m \u001b[31m11.9 MB/s\u001b[0m eta \u001b[36m0:00:00\u001b[0m\n",
      "\u001b[?25hDownloading distro-1.9.0-py3-none-any.whl (20 kB)\n",
      "Downloading jiter-0.8.2-cp312-cp312-manylinux_2_17_x86_64.manylinux2014_x86_64.whl (345 kB)\n",
      "Downloading regex-2024.11.6-cp312-cp312-manylinux_2_17_x86_64.manylinux2014_x86_64.whl (796 kB)\n",
      "\u001b[2K   \u001b[90m━━━━━━━━━━━━━━━━━━━━━━━━━━━━━━━━━━━━━━━━\u001b[0m \u001b[32m796.9/796.9 kB\u001b[0m \u001b[31m11.1 MB/s\u001b[0m eta \u001b[36m0:00:00\u001b[0m\n",
      "\u001b[?25hDownloading tqdm-4.67.1-py3-none-any.whl (78 kB)\n",
      "Installing collected packages: tqdm, regex, jiter, distro, tiktoken, openai, langchain_openai\n",
      "Successfully installed distro-1.9.0 jiter-0.8.2 langchain_openai-0.3.5 openai-1.61.1 regex-2024.11.6 tiktoken-0.8.0 tqdm-4.67.1\n",
      "\n",
      "\u001b[1m[\u001b[0m\u001b[34;49mnotice\u001b[0m\u001b[1;39;49m]\u001b[0m\u001b[39;49m A new release of pip is available: \u001b[0m\u001b[31;49m24.3.1\u001b[0m\u001b[39;49m -> \u001b[0m\u001b[32;49m25.0.1\u001b[0m\n",
      "\u001b[1m[\u001b[0m\u001b[34;49mnotice\u001b[0m\u001b[1;39;49m]\u001b[0m\u001b[39;49m To update, run: \u001b[0m\u001b[32;49mpip install --upgrade pip\u001b[0m\n",
      "Note: you may need to restart the kernel to use updated packages.\n"
     ]
    }
   ],
   "source": [
    "%pip install langchain_experimental\n",
    "%pip install psycopg2\n",
    "%pip install langchain_openai"
   ]
  },
  {
   "cell_type": "code",
   "execution_count": 5,
   "id": "5ddeeaf6",
   "metadata": {},
   "outputs": [],
   "source": [
    "from langchain.utilities import SQLDatabase\n",
    "from langchain.llms import OpenAI\n",
    "from langchain_experimental.sql import SQLDatabaseChain\n",
    "from langchain.prompts import PromptTemplate\n",
    "from langchain.prompts.chat import HumanMessagePromptTemplate\n",
    "from langchain.chat_models import ChatOpenAI\n",
    "from langchain.schema import HumanMessage, SystemMessage\n",
    "from langchain.chains import create_sql_query_chain\n",
    "from langchain_openai import ChatOpenAI\n",
    "import psycopg2\n",
    "from dotenv import load_dotenv"
   ]
  },
  {
   "cell_type": "code",
   "execution_count": 8,
   "id": "b30624fa",
   "metadata": {},
   "outputs": [
    {
     "data": {
      "text/plain": [
       "True"
      ]
     },
     "execution_count": 8,
     "metadata": {},
     "output_type": "execute_result"
    }
   ],
   "source": [
    "load_dotenv()"
   ]
  },
  {
   "cell_type": "code",
   "execution_count": 9,
   "id": "203dcbe2",
   "metadata": {},
   "outputs": [],
   "source": [
    "llm = ChatOpenAI(temperature=0)\n",
    "#llm = ChatOpenAI(model=\"gpt-3.5-turbo\", temperature=0)\n",
    "#chain = create_sql_query_chain(llm, db)\n",
    "\n",
    "\n",
    "\n",
    "prompt_template = PromptTemplate.from_template(\n",
    "    \"\"\"You Answer the question based on the context below.\n",
    "\n",
    "Context:\n",
    "    In the database, there are entities,gdapi_entities, datasets,dataset_tables,entity_data tables. Use Below relationships. \n",
    "    entities table Stores name of customer.\n",
    "    gdapi_entities is a link between entities table and datasets. gdapi_entities id is used as a foreign key by datasets table in entity_id column.\n",
    "    dataset_tables has a column dataset_id this is a foreign key on datasets table on id column. dataset_tables has a column with name as table_name .\n",
    "    entity_data table has the size of data stored for each entity . this table also has the table_name column.\n",
    "    Use the table_name column in dataset_tables and entity_data for the join between two tables.\n",
    "    \n",
    "Question: \"\"\"\n",
    ")\n",
    "prompt = prompt_template.format()\n",
    "\n",
    "# llm.invoke(prompt)\n"
   ]
  },
  {
   "cell_type": "code",
   "execution_count": 12,
   "id": "a5ac620a",
   "metadata": {},
   "outputs": [
    {
     "name": "stdout",
     "output_type": "stream",
     "text": [
      "Available tables: ['annotations', 'annotations_account_codes', 'api_keys', 'ar_internal_metadata', 'async_job_results', 'async_jobs', 'audits', 'authorization_tokens', 'budgeting_allocation_plans', 'budgeting_base_line_period_attributes', 'budgeting_base_lines', 'budgeting_budget_artifacts', 'budgeting_budget_invites', 'budgeting_budget_phases', 'budgeting_budget_reference_data_sets', 'budgeting_budgets', 'budgeting_cost_driving_account_period_attributes', 'budgeting_cost_driving_accounts', 'budgeting_cost_pools', 'budgeting_events', 'budgeting_files', 'budgeting_itemized_entries', 'budgeting_operation_lines', 'budgeting_operations', 'budgeting_periods', 'budgeting_permitted_proposal_segment_codes', 'budgeting_proposal_details', 'budgeting_proposal_invites', 'budgeting_proposals', 'budgeting_pseudoids', 'budgeting_receiver_period_attributes', 'budgeting_receivers', 'budgeting_restricted_segments', 'budgeting_snapshot_coa_snapshots', 'budgeting_snapshot_denormalized_coas', 'change_log', 'control_panel_menu_items', 'customer', 'dashboard_tiles', 'dashboards', 'data_manager_account_strings', 'data_manager_account_strings_nodes', 'data_manager_bulk_coa_imports', 'data_manager_chart_of_accounts', 'data_manager_chart_of_accounts_files', 'data_manager_coa_mask_categories', 'data_manager_coa_mask_nodes', 'data_manager_coa_mask_trees', 'data_manager_coa_masks', 'data_manager_ledger_data_sets', 'data_manager_lines', 'data_manager_lines_nodes', 'data_manager_node_properties', 'data_manager_nodes', 'data_manager_trees', 'data_sheets', 'dataset_account_string_views', 'dataset_append_manifests', 'dataset_columns', 'dataset_dimensions', 'dataset_exports', 'dataset_filtered_exports', 'dataset_pseudo_ids', 'dataset_tables', 'dataset_view_filter_parameters', 'dataset_views', 'datasets', 'denorm_coa_acct_str_460eea5a4c6640418cade40061f5c1ef', 'denorm_coa_acct_str_884a7a46ffec4cfc83740dc20158780a', 'denorm_coa_acct_str_a9b772c21c3045ec8553470ef2b6372b', 'denorm_coa_acct_str_b2f8a71a68d54fba84ae9a844b544092', 'denormalized_coa_dimension', 'entities', 'entity_data', 'feature_license_agreements', 'feature_permissions', 'feedbacks', 'file_uploader_file_classifications', 'file_uploader_files', 'gdapi_entities', 'jobs', 'keywords', 'metrics_queries', 'notification_preferences', 'notifications', 'oauth_access_grants', 'oauth_access_tokens', 'oauth_applications', 'pghero_query_stats', 'portal_files', 'report_invites', 'report_keywords', 'report_ledger_data_sets', 'report_pseudo_datasets', 'report_transaction_datasets', 'report_types', 'reports', 'reports_associations', 'resource_version_dependencies', 'resource_versions', 'roles', 'saved_views', 'schema_migrations', 'sheet_dataset_maps', 'temp_table', 'transaction_views', 'upload_batches', 'uploads', 'user_address', 'user_contact', 'user_notifications', 'user_outbox', 'user_preferences', 'user_settings', 'users', 'versions', 'views', 'wizard_data_set_blobs', 'wizard_data_set_upload_files', 'wizard_data_set_upload_reports', 'wizard_data_set_uploads']\n",
      "SELECT \"e\".\"name\", SUM(pg_column_size(\"ed\".\"total_size\")) AS total_data_size\n",
      "FROM \"entities\" AS \"e\"\n",
      "JOIN \"gdapi_entities\" AS \"ge\" ON \"e\".\"id\" = \"ge\".\"delphius_id\"\n",
      "JOIN \"datasets\" AS \"d\" ON \"ge\".\"id\" = \"d\".\"entity_id\"\n",
      "JOIN \"dataset_tables\" AS \"dt\" ON \"d\".\"id\" = \"dt\".\"dataset_id\"\n",
      "JOIN \"entity_data\" AS \"ed\" ON \"dt\".\"table_name\" = \"ed\".\"table_name\"\n",
      "GROUP BY \"e\".\"name\"\n",
      "ORDER BY total_data_size DESC\n",
      "LIMIT 1;\n",
      "```\n",
      "[('Moonville', 130)]\n"
     ]
    }
   ],
   "source": [
    "from html import entities\n",
    "\n",
    "\n",
    "host = 'localhost'\n",
    "port = '5432'\n",
    "username = 'postgres'\n",
    "password = 'password'\n",
    "database_schema = 'delphis'\n",
    "#mysql_uri = f\"mysql+pymysql://{username}:{password}@{host}:{port}/{database_schema}\"\n",
    "postgres_uri = f\"postgresql+psycopg2://{username}:{password}@{host}:{port}/{database_schema}\"\n",
    "# postgres_uri = f\"postgresql+psycopg2://{username}@{host}:{port}/{database_schema}\"\n",
    "\n",
    "# Create a temporary SQLDatabase object to check available tables\n",
    "temp_db = SQLDatabase.from_uri(postgres_uri)\n",
    "available_tables = temp_db.get_usable_table_names()\n",
    "print(\"Available tables:\", available_tables)\n",
    "\n",
    "# Check if the required tables exist in the database\n",
    "required_tables = [\"entities\", \"gdapi_entities\", \"datasets\", \"dataset_tables\", \"entity_data\"]\n",
    "\n",
    "\n",
    "# Create the SQLDatabase object with the required tables\n",
    "db = SQLDatabase.from_uri(postgres_uri, include_tables=required_tables, sample_rows_in_table_info=2)\n",
    "\n",
    "chain = create_sql_query_chain(llm, db)\n",
    "context = \"\"\"\n",
    "In the database, there are entities, gdapi_entities, datasets, dataset_tables, entity_data tables. Use the relationships below:\n",
    "- entities table stores the name of the customer. \n",
    "- gdapi_entities is a link between entities table and datasets.\n",
    "- gdapi_entities has a column named as delphius_id, use delphius_id column to join with id column of entity table.\n",
    "- gdapi_entities id is used as a foreign key by datasets table in entity_id column.\n",
    "- dataset_tables has a column dataset_id which is a foreign key on datasets table on id column. dataset_tables has a column with name as table_name.\n",
    "- entity_data table has the size of data stored for each entity. This table also has the table_name column.\n",
    "- Use the table_name column in dataset_tables and entity_data for the join between two tables.\n",
    "\"\"\"\n",
    "\n",
    "prompt_template = PromptTemplate.from_template(\n",
    "    f\"\"\"You are a PostgreSQL expert. Given an input question, first create a syntactically correct PostgreSQL query to run, then look at the results of the query and return the answer to the input question.\n",
    "    Unless the user specifies in the question a specific number of examples to obtain, query for at most {{top_k}} results using the LIMIT clause as per PostgreSQL. You can order the results to return the most informative data in the database.\n",
    "    Never query for all columns from a table. You must query only the columns that are needed to answer the question. Wrap each column name in double quotes (\") to denote them as delimited identifiers.\n",
    "    Pay attention to use only the column names you can see in the tables below. Be careful to not query for columns that do not exist. Also, pay attention to which column is in which table.\n",
    "    Pay attention to use CURRENT_DATE function to get the current date, if the question involves \"today\".\n",
    "\n",
    "    Use the following format:\n",
    "\n",
    "    Question: Question here\n",
    "    SQLQuery: SQL Query to run\n",
    "    SQLResult: Result of the SQLQuery\n",
    "    Answer: Final answer here\n",
    "\n",
    "    Only use the following context :\n",
    "    {context}\n",
    "\n",
    "    Question: {{input}}\n",
    "    \"\"\"\n",
    ")\n",
    "\n",
    "prompt = prompt_template.format(input=\"which entity has the most data stored?\", top_k=5)\n",
    "\n",
    "response = chain.invoke({\"question\": prompt})\n",
    "print(response)\n",
    "# Remove backticks from the response\n",
    "cleaned_response = response.replace(\"```\", \"\")\n",
    "print(db.run(cleaned_response))"
   ]
  },
  {
   "cell_type": "code",
   "execution_count": null,
   "id": "13a5754c",
   "metadata": {},
   "outputs": [],
   "source": [
    "# response = chain.invoke({\"question\": \"Which state are customers most from?\"})\n",
    "# print(response)\n",
    "print(db.run(response))"
   ]
  },
  {
   "cell_type": "code",
   "execution_count": 50,
   "id": "c293f9d4",
   "metadata": {},
   "outputs": [
    {
     "name": "stdout",
     "output_type": "stream",
     "text": [
      "SELECT \"customerid\", \"firstname\", \"lastname\", \"shipping\"\n",
      "FROM customer\n",
      "JOIN sale ON customer.customerid = sale.customer_id\n",
      "ORDER BY \"shipping\" DESC\n",
      "LIMIT 5;\n",
      "[(129, 'Kurt', 'Small', Decimal('59.47')), (109, 'Elham', 'Mousavidin', Decimal('59.37')), (156, 'Selris', 'Mahabir', Decimal('59.03')), (176, 'Uchenna', 'Sr', Decimal('58.15')), (672, 'Matthew', 'Rowland', Decimal('55.53'))]\n"
     ]
    }
   ],
   "source": [
    "response = chain.invoke({\"question\": \"Give me the top 5 customers who paid the highest shipping charges\"})\n",
    "print(response)\n",
    "print(db.run(response))"
   ]
  }
 ],
 "metadata": {
  "kernelspec": {
   "display_name": "Python 3",
   "language": "python",
   "name": "python3"
  },
  "language_info": {
   "codemirror_mode": {
    "name": "ipython",
    "version": 3
   },
   "file_extension": ".py",
   "mimetype": "text/x-python",
   "name": "python",
   "nbconvert_exporter": "python",
   "pygments_lexer": "ipython3",
   "version": "3.12.1"
  }
 },
 "nbformat": 4,
 "nbformat_minor": 5
}
